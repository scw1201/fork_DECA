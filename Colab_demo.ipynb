{
  "cells": [
    {
      "cell_type": "markdown",
      "metadata": {
        "id": "view-in-github",
        "colab_type": "text"
      },
      "source": [
        "<a href=\"https://colab.research.google.com/github/scw1201/fork_DECA/blob/master/Colab_demo.ipynb\" target=\"_parent\"><img src=\"https://colab.research.google.com/assets/colab-badge.svg\" alt=\"Open In Colab\"/></a>"
      ]
    },
    {
      "cell_type": "code",
      "execution_count": 7,
      "metadata": {
        "id": "FypCcZkNNt2p",
        "outputId": "7f8e8864-a986-4679-fd85-32c7cd4a9a07",
        "colab": {
          "base_uri": "https://localhost:8080/"
        }
      },
      "outputs": [
        {
          "output_type": "stream",
          "name": "stdout",
          "text": [
            "Cloning into 'arXiv2020-RIFE'...\n",
            "remote: Enumerating objects: 2037, done.\u001b[K\n",
            "remote: Counting objects: 100% (402/402), done.\u001b[K\n",
            "remote: Compressing objects: 100% (100/100), done.\u001b[K\n",
            "remote: Total 2037 (delta 364), reused 302 (delta 302), pack-reused 1635 (from 1)\u001b[K\n",
            "Receiving objects: 100% (2037/2037), 4.12 MiB | 17.64 MiB/s, done.\n",
            "Resolving deltas: 100% (1292/1292), done.\n"
          ]
        }
      ],
      "source": [
        "!git clone https://github.com/hzwer/arXiv2020-RIFE"
      ]
    },
    {
      "cell_type": "code",
      "execution_count": 8,
      "metadata": {
        "id": "1wysVHxoN54f",
        "outputId": "a436b2eb-9dae-433c-87cf-7326cde01bb1",
        "colab": {
          "base_uri": "https://localhost:8080/"
        }
      },
      "outputs": [
        {
          "output_type": "stream",
          "name": "stdout",
          "text": [
            "mkdir: cannot create directory ‘/content/arXiv2020-RIFE/train_log’: File exists\n",
            "/content/arXiv2020-RIFE/train_log\n",
            "/usr/local/lib/python3.12/dist-packages/gdown/__main__.py:140: FutureWarning: Option `--id` was deprecated in version 4.3.1 and will be removed in 5.0. You don't need to pass it anymore to use a file ID.\n",
            "  warnings.warn(\n",
            "Downloading...\n",
            "From: https://drive.google.com/uc?id=1APIzVeI-4ZZCEuIRE1m6WYfSCaOsi_7_\n",
            "To: /content/arXiv2020-RIFE/train_log/RIFE_trained_model_v3.6.zip\n",
            "100% 11.3M/11.3M [00:00<00:00, 70.2MB/s]\n",
            "\n",
            "7-Zip [64] 16.02 : Copyright (c) 1999-2016 Igor Pavlov : 2016-05-21\n",
            "p7zip Version 16.02 (locale=en_US.UTF-8,Utf16=on,HugeFiles=on,64 bits,2 CPUs Intel(R) Xeon(R) CPU @ 2.00GHz (50653),ASM,AES-NI)\n",
            "\n",
            "Scanning the drive for archives:\n",
            "  0M Scan\b\b\b\b\b\b\b\b\b         \b\b\b\b\b\b\b\b\b1 file, 11332064 bytes (11 MiB)\n",
            "\n",
            "Extracting archive: RIFE_trained_model_v3.6.zip\n",
            "--\n",
            "Path = RIFE_trained_model_v3.6.zip\n",
            "Type = zip\n",
            "Physical Size = 11332064\n",
            "\n",
            "  0%\b\b\b\b    \b\b\b\b\n",
            "Would you like to replace the existing file:\n",
            "  Path:     ./.DS_Store\n",
            "  Size:     6148 bytes (7 KiB)\n",
            "  Modified: 2021-06-17 11:33:40\n",
            "with the file from archive:\n",
            "  Path:     train_log/.DS_Store\n",
            "  Size:     6148 bytes (7 KiB)\n",
            "  Modified: 2021-06-17 11:33:40\n",
            "? (Y)es / (N)o / (A)lways / (S)kip all / A(u)to rename all / (Q)uit? y\n",
            "\n",
            "  0% 1 - train_log/.DS_Store\b\b\b\b\b\b\b\b\b\b\b\b\b\b\b\b\b\b\b\b\b\b\b\b\b\b\b\b                            \b\b\b\b\b\b\b\b\b\b\b\b\b\b\b\b\b\b\b\b\b\b\b\b\b\b\b\b\n",
            "Would you like to replace the existing file:\n",
            "  Path:     ./._.DS_Store\n",
            "  Size:     212 bytes (1 KiB)\n",
            "  Modified: 2021-06-17 11:33:40\n",
            "with the file from archive:\n",
            "  Path:     __MACOSX/train_log/._.DS_Store\n",
            "  Size:     212 bytes (1 KiB)\n",
            "  Modified: 2021-06-17 11:33:40\n",
            "? (Y)es / (N)o / (A)lways / (S)kip all / A(u)to rename all / (Q)uit? y\n",
            "\n",
            "  0% 4 - __MACOSX/train_log/._.DS_Store\b\b\b\b\b\b\b\b\b\b\b\b\b\b\b\b\b\b\b\b\b\b\b\b\b\b\b\b\b\b\b\b\b\b\b\b\b\b\b                                       \b\b\b\b\b\b\b\b\b\b\b\b\b\b\b\b\b\b\b\b\b\b\b\b\b\b\b\b\b\b\b\b\b\b\b\b\b\b\b\n",
            "Would you like to replace the existing file:\n",
            "  Path:     ./flownet.pkl\n",
            "  Size:     12186817 bytes (12 MiB)\n",
            "  Modified: 2021-06-17 11:16:00\n",
            "with the file from archive:\n",
            "  Path:     train_log/flownet.pkl\n",
            "  Size:     12186817 bytes (12 MiB)\n",
            "  Modified: 2021-06-17 11:16:00\n",
            "? (Y)es / (N)o / (A)lways / (S)kip all / A(u)to rename all / (Q)uit? y\n",
            "\n",
            "  0% 5 - train_log/flownet.pkl\b\b\b\b\b\b\b\b\b\b\b\b\b\b\b\b\b\b\b\b\b\b\b\b\b\b\b\b\b\b                              \b\b\b\b\b\b\b\b\b\b\b\b\b\b\b\b\b\b\b\b\b\b\b\b\b\b\b\b\b\b\n",
            "Would you like to replace the existing file:\n",
            "  Path:     ./IFNet_HDv3.py\n",
            "  Size:     4642 bytes (5 KiB)\n",
            "  Modified: 2021-06-17 15:21:22\n",
            "with the file from archive:\n",
            "  Path:     train_log/IFNet_HDv3.py\n",
            "  Size:     4642 bytes (5 KiB)\n",
            "  Modified: 2021-06-17 15:21:22\n",
            "? (Y)es / (N)o / (A)lways / (S)kip all / A(u)to rename all / (Q)uit? y\n",
            "\n",
            " 99% 6 - train_log/IFNet_HDv3.py\b\b\b\b\b\b\b\b\b\b\b\b\b\b\b\b\b\b\b\b\b\b\b\b\b\b\b\b\b\b\b\b                                \b\b\b\b\b\b\b\b\b\b\b\b\b\b\b\b\b\b\b\b\b\b\b\b\b\b\b\b\b\b\b\b\n",
            "Would you like to replace the existing file:\n",
            "  Path:     ./._IFNet_HDv3.py\n",
            "  Size:     333 bytes (1 KiB)\n",
            "  Modified: 2021-06-17 15:21:22\n",
            "with the file from archive:\n",
            "  Path:     __MACOSX/train_log/._IFNet_HDv3.py\n",
            "  Size:     333 bytes (1 KiB)\n",
            "  Modified: 2021-06-17 15:21:22\n",
            "? (Y)es / (N)o / (A)lways / (S)kip all / A(u)to rename all / (Q)uit? y\n",
            "\n",
            " 99% 7 - __MACOSX/train_log/._IFNet_HDv3.py\b\b\b\b\b\b\b\b\b\b\b\b\b\b\b\b\b\b\b\b\b\b\b\b\b\b\b\b\b\b\b\b\b\b\b\b\b\b\b\b\b\b\b                                           \b\b\b\b\b\b\b\b\b\b\b\b\b\b\b\b\b\b\b\b\b\b\b\b\b\b\b\b\b\b\b\b\b\b\b\b\b\b\b\b\b\b\b\n",
            "Would you like to replace the existing file:\n",
            "  Path:     ./IFNet_HDv3.cpython-37.pyc\n",
            "  Size:     3694 bytes (4 KiB)\n",
            "  Modified: 2021-06-17 15:22:52\n",
            "with the file from archive:\n",
            "  Path:     train_log/__pycache__/IFNet_HDv3.cpython-37.pyc\n",
            "  Size:     3694 bytes (4 KiB)\n",
            "  Modified: 2021-06-17 15:22:52\n",
            "? (Y)es / (N)o / (A)lways / (S)kip all / A(u)to rename all / (Q)uit? y\n",
            "\n",
            " 99% 9 - train_log/__pycache__/IFNet_HDv3.cpython-37.pyc\b\b\b\b\b\b\b\b\b\b\b\b\b\b\b\b\b\b\b\b\b\b\b\b\b\b\b\b\b\b\b\b\b\b\b\b\b\b\b\b\b\b\b\b\b\b\b\b\b\b\b\b\b\b\b\b                                                        \b\b\b\b\b\b\b\b\b\b\b\b\b\b\b\b\b\b\b\b\b\b\b\b\b\b\b\b\b\b\b\b\b\b\b\b\b\b\b\b\b\b\b\b\b\b\b\b\b\b\b\b\b\b\b\b\n",
            "Would you like to replace the existing file:\n",
            "  Path:     ./RIFE_HDv3.cpython-37.pyc\n",
            "  Size:     3436 bytes (4 KiB)\n",
            "  Modified: 2021-06-17 15:22:52\n",
            "with the file from archive:\n",
            "  Path:     train_log/__pycache__/RIFE_HDv3.cpython-37.pyc\n",
            "  Size:     3436 bytes (4 KiB)\n",
            "  Modified: 2021-06-17 15:22:52\n",
            "? (Y)es / (N)o / (A)lways / (S)kip all / A(u)to rename all / (Q)uit? y\n",
            "\n",
            " 99% 10 - train_log/__pycache__/RIFE_HDv3.cpython-37.pyc\b\b\b\b\b\b\b\b\b\b\b\b\b\b\b\b\b\b\b\b\b\b\b\b\b\b\b\b\b\b\b\b\b\b\b\b\b\b\b\b\b\b\b\b\b\b\b\b\b\b\b\b\b\b\b\b                                                        \b\b\b\b\b\b\b\b\b\b\b\b\b\b\b\b\b\b\b\b\b\b\b\b\b\b\b\b\b\b\b\b\b\b\b\b\b\b\b\b\b\b\b\b\b\b\b\b\b\b\b\b\b\b\b\b\n",
            "Would you like to replace the existing file:\n",
            "  Path:     ./RIFE_HDv3.py\n",
            "  Size:     2992 bytes (3 KiB)\n",
            "  Modified: 2021-06-17 15:22:26\n",
            "with the file from archive:\n",
            "  Path:     train_log/RIFE_HDv3.py\n",
            "  Size:     2992 bytes (3 KiB)\n",
            "  Modified: 2021-06-17 15:22:26\n",
            "? (Y)es / (N)o / (A)lways / (S)kip all / A(u)to rename all / (Q)uit? y\n",
            "\n",
            " 99% 11 - train_log/RIFE_HDv3.py\b\b\b\b\b\b\b\b\b\b\b\b\b\b\b\b\b\b\b\b\b\b\b\b\b\b\b\b\b\b\b\b                                \b\b\b\b\b\b\b\b\b\b\b\b\b\b\b\b\b\b\b\b\b\b\b\b\b\b\b\b\b\b\b\b\n",
            "Would you like to replace the existing file:\n",
            "  Path:     ./._RIFE_HDv3.py\n",
            "  Size:     333 bytes (1 KiB)\n",
            "  Modified: 2021-06-17 15:22:26\n",
            "with the file from archive:\n",
            "  Path:     __MACOSX/train_log/._RIFE_HDv3.py\n",
            "  Size:     333 bytes (1 KiB)\n",
            "  Modified: 2021-06-17 15:22:26\n",
            "? (Y)es / (N)o / (A)lways / (S)kip all / A(u)to rename all / (Q)uit? a\n",
            "\n",
            " 99% 12 - __MACOSX/train_log/._RIFE_HDv3.py\b\b\b\b\b\b\b\b\b\b\b\b\b\b\b\b\b\b\b\b\b\b\b\b\b\b\b\b\b\b\b\b\b\b\b\b\b\b\b\b\b\b\b                                           \b\b\b\b\b\b\b\b\b\b\b\b\b\b\b\b\b\b\b\b\b\b\b\b\b\b\b\b\b\b\b\b\b\b\b\b\b\b\b\b\b\b\bEverything is Ok\n",
            "\n",
            "Folders: 4\n",
            "Files: 10\n",
            "Size:       12208819\n",
            "Compressed: 11332064\n"
          ]
        }
      ],
      "source": [
        "!mkdir /content/arXiv2020-RIFE/train_log\n",
        "%cd /content/arXiv2020-RIFE/train_log\n",
        "!gdown --id 1APIzVeI-4ZZCEuIRE1m6WYfSCaOsi_7_\n",
        "!7z e RIFE_trained_model_v3.6.zip"
      ]
    },
    {
      "cell_type": "code",
      "execution_count": 9,
      "metadata": {
        "id": "AhbHfRBJRAUt",
        "outputId": "d277c734-91a5-42d9-c0fa-b820d6612346",
        "colab": {
          "base_uri": "https://localhost:8080/"
        }
      },
      "outputs": [
        {
          "output_type": "stream",
          "name": "stdout",
          "text": [
            "/content/arXiv2020-RIFE\n",
            "/usr/local/lib/python3.12/dist-packages/gdown/__main__.py:140: FutureWarning: Option `--id` was deprecated in version 4.3.1 and will be removed in 5.0. You don't need to pass it anymore to use a file ID.\n",
            "  warnings.warn(\n",
            "Downloading...\n",
            "From: https://drive.google.com/uc?id=1i3xlKb7ax7Y70khcTcuePi6E7crO_dFc\n",
            "To: /content/arXiv2020-RIFE/demo.mp4\n",
            "100% 54.6M/54.6M [00:00<00:00, 234MB/s]\n",
            "Collecting git+https://github.com/rk-exxec/scikit-video.git@numpy_deprecation\n",
            "  Cloning https://github.com/rk-exxec/scikit-video.git (to revision numpy_deprecation) to /tmp/pip-req-build-13j1wti9\n",
            "  Running command git clone --filter=blob:none --quiet https://github.com/rk-exxec/scikit-video.git /tmp/pip-req-build-13j1wti9\n",
            "  Running command git checkout -b numpy_deprecation --track origin/numpy_deprecation\n",
            "  Switched to a new branch 'numpy_deprecation'\n",
            "  Branch 'numpy_deprecation' set up to track remote branch 'numpy_deprecation' from 'origin'.\n",
            "  Resolved https://github.com/rk-exxec/scikit-video.git to commit 74cbbb2e19599304bf069529537b23a518fdc3c9\n",
            "  Preparing metadata (setup.py) ... \u001b[?25l\u001b[?25hdone\n",
            "Requirement already satisfied: numpy in /usr/local/lib/python3.12/dist-packages (from scikit-video==1.1.11) (2.0.2)\n",
            "Requirement already satisfied: scipy in /usr/local/lib/python3.12/dist-packages (from scikit-video==1.1.11) (1.16.1)\n",
            "Requirement already satisfied: pillow in /usr/local/lib/python3.12/dist-packages (from scikit-video==1.1.11) (11.3.0)\n",
            "Building wheels for collected packages: scikit-video\n",
            "  Building wheel for scikit-video (setup.py) ... \u001b[?25l\u001b[?25hdone\n",
            "  Created wheel for scikit-video: filename=scikit_video-1.1.11-py3-none-any.whl size=2247110 sha256=bc0ab30e7c38497bd8d67872b6cb3e8b981a5a0071ad00e41c59b4ffef1ea5bd\n",
            "  Stored in directory: /tmp/pip-ephem-wheel-cache-68q0e84c/wheels/85/b9/25/cbfd7f5b1956810f105940e9aba020b6d642fdb373004f7d4a\n",
            "Successfully built scikit-video\n",
            "Installing collected packages: scikit-video\n",
            "Successfully installed scikit-video-1.1.11\n"
          ]
        }
      ],
      "source": [
        "%cd /content/arXiv2020-RIFE/\n",
        "!gdown --id 1i3xlKb7ax7Y70khcTcuePi6E7crO_dFc\n",
        "!pip install git+https://github.com/rk-exxec/scikit-video.git@numpy_deprecation"
      ]
    },
    {
      "cell_type": "markdown",
      "metadata": {
        "id": "rirngW5uRMdg"
      },
      "source": [
        "Please upload your video to content/arXiv2020-RIFE/video.mp4, or use our demo video."
      ]
    },
    {
      "cell_type": "code",
      "execution_count": null,
      "metadata": {
        "id": "dnLn4aHHPzN3",
        "outputId": "89ba93a9-68ea-46d7-ab1f-1803d39bb4e4",
        "colab": {
          "base_uri": "https://localhost:8080/"
        }
      },
      "outputs": [
        {
          "output_type": "stream",
          "name": "stdout",
          "text": [
            "Sat Sep 13 14:53:49 2025       \n",
            "+-----------------------------------------------------------------------------------------+\n",
            "| NVIDIA-SMI 550.54.15              Driver Version: 550.54.15      CUDA Version: 12.4     |\n",
            "|-----------------------------------------+------------------------+----------------------+\n",
            "| GPU  Name                 Persistence-M | Bus-Id          Disp.A | Volatile Uncorr. ECC |\n",
            "| Fan  Temp   Perf          Pwr:Usage/Cap |           Memory-Usage | GPU-Util  Compute M. |\n",
            "|                                         |                        |               MIG M. |\n",
            "|=========================================+========================+======================|\n",
            "|   0  Tesla T4                       Off |   00000000:00:04.0 Off |                    0 |\n",
            "| N/A   38C    P8              9W /   70W |       0MiB /  15360MiB |      0%      Default |\n",
            "|                                         |                        |                  N/A |\n",
            "+-----------------------------------------+------------------------+----------------------+\n",
            "                                                                                         \n",
            "+-----------------------------------------------------------------------------------------+\n",
            "| Processes:                                                                              |\n",
            "|  GPU   GI   CI        PID   Type   Process name                              GPU Memory |\n",
            "|        ID   ID                                                               Usage      |\n",
            "|=========================================================================================|\n",
            "|  No running processes found                                                             |\n",
            "+-----------------------------------------------------------------------------------------+\n"
          ]
        }
      ],
      "source": [
        "!nvidia-smi\n"
      ]
    },
    {
      "cell_type": "markdown",
      "metadata": {
        "id": "77KK6lxHgJhf"
      },
      "source": [
        "Our demo.mp4 is 25FPS. You can adjust the parameters for your own perference.\n",
        "For example:\n",
        "--fps=60 --exp=1 --video=mydemo.avi --png"
      ]
    },
    {
      "cell_type": "code",
      "execution_count": 10,
      "metadata": {
        "cellView": "code",
        "id": "0zIBbVE3UfUD"
      },
      "outputs": [],
      "source": [
        "from IPython.display import display, Image\n",
        "import moviepy.editor as mpy\n"
      ]
    },
    {
      "cell_type": "code",
      "execution_count": 14,
      "metadata": {
        "id": "tWkJCNgP3zXA",
        "outputId": "d1963a76-bd4a-426b-d282-765a2982cb48",
        "colab": {
          "base_uri": "https://localhost:8080/",
          "height": 531
        }
      },
      "outputs": [
        {
          "output_type": "stream",
          "name": "stdout",
          "text": [
            "  File \"/content/arXiv2020-RIFE/inference_img.py\", line 96\n",
            "    else:\n",
            "    ^^^^\n",
            "SyntaxError: invalid syntax\n",
            "✅ 插值完成：共生成 0 帧\n",
            "🕒 推理时长：0.10 秒\n",
            "ffmpeg version 4.4.2-0ubuntu0.22.04.1 Copyright (c) 2000-2021 the FFmpeg developers\n",
            "  built with gcc 11 (Ubuntu 11.2.0-19ubuntu1)\n",
            "  configuration: --prefix=/usr --extra-version=0ubuntu0.22.04.1 --toolchain=hardened --libdir=/usr/lib/x86_64-linux-gnu --incdir=/usr/include/x86_64-linux-gnu --arch=amd64 --enable-gpl --disable-stripping --enable-gnutls --enable-ladspa --enable-libaom --enable-libass --enable-libbluray --enable-libbs2b --enable-libcaca --enable-libcdio --enable-libcodec2 --enable-libdav1d --enable-libflite --enable-libfontconfig --enable-libfreetype --enable-libfribidi --enable-libgme --enable-libgsm --enable-libjack --enable-libmp3lame --enable-libmysofa --enable-libopenjpeg --enable-libopenmpt --enable-libopus --enable-libpulse --enable-librabbitmq --enable-librubberband --enable-libshine --enable-libsnappy --enable-libsoxr --enable-libspeex --enable-libsrt --enable-libssh --enable-libtheora --enable-libtwolame --enable-libvidstab --enable-libvorbis --enable-libvpx --enable-libwebp --enable-libx265 --enable-libxml2 --enable-libxvid --enable-libzimg --enable-libzmq --enable-libzvbi --enable-lv2 --enable-omx --enable-openal --enable-opencl --enable-opengl --enable-sdl2 --enable-pocketsphinx --enable-librsvg --enable-libmfx --enable-libdc1394 --enable-libdrm --enable-libiec61883 --enable-chromaprint --enable-frei0r --enable-libx264 --enable-shared\n",
            "  libavutil      56. 70.100 / 56. 70.100\n",
            "  libavcodec     58.134.100 / 58.134.100\n",
            "  libavformat    58. 76.100 / 58. 76.100\n",
            "  libavdevice    58. 13.100 / 58. 13.100\n",
            "  libavfilter     7.110.100 /  7.110.100\n",
            "  libswscale      5.  9.100 /  5.  9.100\n",
            "  libswresample   3.  9.100 /  3.  9.100\n",
            "  libpostproc    55.  9.100 / 55.  9.100\n",
            "\u001b[0;35m[image2 @ 0x5c1c3bef4040] \u001b[0m\u001b[1;31mCould find no file with path 'output/img%d.png' and index in the range 0-4\n",
            "\u001b[0m\u001b[1;31moutput/img%d.png: No such file or directory\n",
            "\u001b[0m🎞️ 已生成视频：output/slomo.mp4（30 fps）\n"
          ]
        },
        {
          "output_type": "execute_result",
          "data": {
            "text/plain": [
              "<IPython.core.display.Video object>"
            ],
            "text/html": [
              "<video controls  >\n",
              " <source src=\"data:None;base64,output/slomo.mp4\" type=\"None\">\n",
              " Your browser does not support the video tag.\n",
              " </video>"
            ]
          },
          "metadata": {},
          "execution_count": 14
        }
      ],
      "source": [
        "import os\n",
        "import time\n",
        "import glob\n",
        "from IPython.display import Video\n",
        "\n",
        "# 清空旧输出（可选）\n",
        "!rm -rf output\n",
        "os.makedirs(\"output\", exist_ok=True)\n",
        "\n",
        "# ----------------------\n",
        "# 1. 启动插帧 + 计时\n",
        "# ----------------------\n",
        "start_time = time.time()\n",
        "\n",
        "!python3 inference_img.py --img scw_input_img/first.png scw_input_img/last.png\n",
        "\n",
        "end_time = time.time()\n",
        "inference_duration = end_time - start_time\n",
        "\n",
        "# ----------------------\n",
        "# 2. 查看生成帧数\n",
        "# ----------------------\n",
        "generated_frames = sorted(glob.glob(\"output/img*.png\"))\n",
        "num_frames = len(generated_frames)\n",
        "\n",
        "print(f\"✅ 插值完成：共生成 {num_frames} 帧\")\n",
        "print(f\"🕒 推理时长：{inference_duration:.2f} 秒\")\n",
        "\n",
        "# ----------------------\n",
        "# 3. 合成为 mp4 视频（可改成 GIF）\n",
        "# 默认使用 30fps，可按需改\n",
        "# ----------------------\n",
        "fps = 30\n",
        "!ffmpeg -y -r {fps} -f image2 -i output/img%d.png -vcodec libx264 -pix_fmt yuv420p output/slomo.mp4\n",
        "\n",
        "print(f\"🎞️ 已生成视频：output/slomo.mp4（{fps} fps）\")\n",
        "\n",
        "# ----------------------\n",
        "# 4. Colab中直接显示视频\n",
        "# ----------------------\n",
        "Video(\"output/slomo.mp4\", embed=True)"
      ]
    },
    {
      "cell_type": "code",
      "source": [
        "# 把整个 output 文件夹压缩成 zip\n",
        "!zip -r output.zip output\n",
        "\n",
        "# 然后下载到本地\n",
        "from google.colab import files\n",
        "files.download(\"output.zip\")"
      ],
      "metadata": {
        "id": "9KSaDgwzmlsm",
        "outputId": "bda02284-ca64-439a-87f0-69a1f0916c19",
        "colab": {
          "base_uri": "https://localhost:8080/",
          "height": 340
        }
      },
      "execution_count": 12,
      "outputs": [
        {
          "output_type": "stream",
          "name": "stdout",
          "text": [
            "  adding: output/ (stored 0%)\n",
            "  adding: output/img12.png (deflated 8%)\n",
            "  adding: output/slomo.mp4 (deflated 0%)\n",
            "  adding: output/img9.png (deflated 8%)\n",
            "  adding: output/img4.png (deflated 8%)\n",
            "  adding: output/img2.png (deflated 8%)\n",
            "  adding: output/img13.png (deflated 8%)\n",
            "  adding: output/img7.png (deflated 8%)\n",
            "  adding: output/img14.png (deflated 8%)\n",
            "  adding: output/img1.png (deflated 8%)\n",
            "  adding: output/img3.png (deflated 8%)\n",
            "  adding: output/img6.png (deflated 8%)\n",
            "  adding: output/img0.png (deflated 11%)\n",
            "  adding: output/img11.png (deflated 8%)\n",
            "  adding: output/img10.png (deflated 8%)\n",
            "  adding: output/img16.png (deflated 12%)\n",
            "  adding: output/img5.png (deflated 8%)\n",
            "  adding: output/img15.png (deflated 8%)\n",
            "  adding: output/img8.png (deflated 8%)\n"
          ]
        },
        {
          "output_type": "display_data",
          "data": {
            "text/plain": [
              "<IPython.core.display.Javascript object>"
            ],
            "application/javascript": [
              "\n",
              "    async function download(id, filename, size) {\n",
              "      if (!google.colab.kernel.accessAllowed) {\n",
              "        return;\n",
              "      }\n",
              "      const div = document.createElement('div');\n",
              "      const label = document.createElement('label');\n",
              "      label.textContent = `Downloading \"${filename}\": `;\n",
              "      div.appendChild(label);\n",
              "      const progress = document.createElement('progress');\n",
              "      progress.max = size;\n",
              "      div.appendChild(progress);\n",
              "      document.body.appendChild(div);\n",
              "\n",
              "      const buffers = [];\n",
              "      let downloaded = 0;\n",
              "\n",
              "      const channel = await google.colab.kernel.comms.open(id);\n",
              "      // Send a message to notify the kernel that we're ready.\n",
              "      channel.send({})\n",
              "\n",
              "      for await (const message of channel.messages) {\n",
              "        // Send a message to notify the kernel that we're ready.\n",
              "        channel.send({})\n",
              "        if (message.buffers) {\n",
              "          for (const buffer of message.buffers) {\n",
              "            buffers.push(buffer);\n",
              "            downloaded += buffer.byteLength;\n",
              "            progress.value = downloaded;\n",
              "          }\n",
              "        }\n",
              "      }\n",
              "      const blob = new Blob(buffers, {type: 'application/binary'});\n",
              "      const a = document.createElement('a');\n",
              "      a.href = window.URL.createObjectURL(blob);\n",
              "      a.download = filename;\n",
              "      div.appendChild(a);\n",
              "      a.click();\n",
              "      div.remove();\n",
              "    }\n",
              "  "
            ]
          },
          "metadata": {}
        },
        {
          "output_type": "display_data",
          "data": {
            "text/plain": [
              "<IPython.core.display.Javascript object>"
            ],
            "application/javascript": [
              "download(\"download_5981b276-17ad-4954-9737-65166ebb89b4\", \"output.zip\", 30301739)"
            ]
          },
          "metadata": {}
        }
      ]
    }
  ],
  "metadata": {
    "accelerator": "GPU",
    "colab": {
      "name": "Untitled0.ipynb",
      "provenance": [],
      "include_colab_link": true
    },
    "kernelspec": {
      "display_name": "Python 3",
      "name": "python3"
    }
  },
  "nbformat": 4,
  "nbformat_minor": 0
}