{
  "cells": [
    {
      "cell_type": "markdown",
      "metadata": {
        "id": "view-in-github",
        "colab_type": "text"
      },
      "source": [
        "<a href=\"https://colab.research.google.com/github/scw1201/fork_DECA/blob/master/Colab_demo.ipynb\" target=\"_parent\"><img src=\"https://colab.research.google.com/assets/colab-badge.svg\" alt=\"Open In Colab\"/></a>"
      ]
    },
    {
      "cell_type": "code",
      "execution_count": 1,
      "metadata": {
        "id": "FypCcZkNNt2p",
        "outputId": "8f60901e-4f4d-4bd3-e67e-9130e8560868",
        "colab": {
          "base_uri": "https://localhost:8080/"
        }
      },
      "outputs": [
        {
          "output_type": "stream",
          "name": "stdout",
          "text": [
            "Cloning into 'arXiv2020-RIFE'...\n",
            "remote: Enumerating objects: 2037, done.\u001b[K\n",
            "remote: Counting objects: 100% (400/400), done.\u001b[K\n",
            "remote: Compressing objects: 100% (98/98), done.\u001b[K\n",
            "remote: Total 2037 (delta 364), reused 302 (delta 302), pack-reused 1637 (from 2)\u001b[K\n",
            "Receiving objects: 100% (2037/2037), 4.12 MiB | 17.28 MiB/s, done.\n",
            "Resolving deltas: 100% (1292/1292), done.\n"
          ]
        }
      ],
      "source": [
        "!git clone https://github.com/hzwer/arXiv2020-RIFE"
      ]
    },
    {
      "cell_type": "code",
      "execution_count": 2,
      "metadata": {
        "id": "1wysVHxoN54f",
        "outputId": "d7e74bc2-678a-4e3f-91b9-245c878d8a38",
        "colab": {
          "base_uri": "https://localhost:8080/"
        }
      },
      "outputs": [
        {
          "output_type": "stream",
          "name": "stdout",
          "text": [
            "/content/arXiv2020-RIFE/train_log\n",
            "/usr/local/lib/python3.12/dist-packages/gdown/__main__.py:140: FutureWarning: Option `--id` was deprecated in version 4.3.1 and will be removed in 5.0. You don't need to pass it anymore to use a file ID.\n",
            "  warnings.warn(\n",
            "Downloading...\n",
            "From: https://drive.google.com/uc?id=1APIzVeI-4ZZCEuIRE1m6WYfSCaOsi_7_\n",
            "To: /content/arXiv2020-RIFE/train_log/RIFE_trained_model_v3.6.zip\n",
            "100% 11.3M/11.3M [00:00<00:00, 14.9MB/s]\n",
            "\n",
            "7-Zip [64] 16.02 : Copyright (c) 1999-2016 Igor Pavlov : 2016-05-21\n",
            "p7zip Version 16.02 (locale=en_US.UTF-8,Utf16=on,HugeFiles=on,64 bits,2 CPUs Intel(R) Xeon(R) CPU @ 2.00GHz (50653),ASM,AES-NI)\n",
            "\n",
            "Scanning the drive for archives:\n",
            "  0M Scan\b\b\b\b\b\b\b\b\b         \b\b\b\b\b\b\b\b\b1 file, 11332064 bytes (11 MiB)\n",
            "\n",
            "Extracting archive: RIFE_trained_model_v3.6.zip\n",
            "--\n",
            "Path = RIFE_trained_model_v3.6.zip\n",
            "Type = zip\n",
            "Physical Size = 11332064\n",
            "\n",
            "  0%\b\b\b\b    \b\b\b\bEverything is Ok\n",
            "\n",
            "Folders: 4\n",
            "Files: 10\n",
            "Size:       12208819\n",
            "Compressed: 11332064\n"
          ]
        }
      ],
      "source": [
        "!mkdir /content/arXiv2020-RIFE/train_log\n",
        "%cd /content/arXiv2020-RIFE/train_log\n",
        "!gdown --id 1APIzVeI-4ZZCEuIRE1m6WYfSCaOsi_7_\n",
        "!7z e RIFE_trained_model_v3.6.zip"
      ]
    },
    {
      "cell_type": "code",
      "execution_count": 3,
      "metadata": {
        "id": "AhbHfRBJRAUt",
        "outputId": "af263140-8d95-4212-c0f4-62588ad8e7ec",
        "colab": {
          "base_uri": "https://localhost:8080/"
        }
      },
      "outputs": [
        {
          "output_type": "stream",
          "name": "stdout",
          "text": [
            "/content/arXiv2020-RIFE\n",
            "/usr/local/lib/python3.12/dist-packages/gdown/__main__.py:140: FutureWarning: Option `--id` was deprecated in version 4.3.1 and will be removed in 5.0. You don't need to pass it anymore to use a file ID.\n",
            "  warnings.warn(\n",
            "Downloading...\n",
            "From: https://drive.google.com/uc?id=1i3xlKb7ax7Y70khcTcuePi6E7crO_dFc\n",
            "To: /content/arXiv2020-RIFE/demo.mp4\n",
            "100% 54.6M/54.6M [00:00<00:00, 95.1MB/s]\n",
            "Collecting git+https://github.com/rk-exxec/scikit-video.git@numpy_deprecation\n",
            "  Cloning https://github.com/rk-exxec/scikit-video.git (to revision numpy_deprecation) to /tmp/pip-req-build-5aiq3iij\n",
            "  Running command git clone --filter=blob:none --quiet https://github.com/rk-exxec/scikit-video.git /tmp/pip-req-build-5aiq3iij\n",
            "  Running command git checkout -b numpy_deprecation --track origin/numpy_deprecation\n",
            "  Switched to a new branch 'numpy_deprecation'\n",
            "  Branch 'numpy_deprecation' set up to track remote branch 'numpy_deprecation' from 'origin'.\n",
            "  Resolved https://github.com/rk-exxec/scikit-video.git to commit 74cbbb2e19599304bf069529537b23a518fdc3c9\n",
            "  Preparing metadata (setup.py) ... \u001b[?25l\u001b[?25hdone\n",
            "Requirement already satisfied: numpy in /usr/local/lib/python3.12/dist-packages (from scikit-video==1.1.11) (2.0.2)\n",
            "Requirement already satisfied: scipy in /usr/local/lib/python3.12/dist-packages (from scikit-video==1.1.11) (1.16.1)\n",
            "Requirement already satisfied: pillow in /usr/local/lib/python3.12/dist-packages (from scikit-video==1.1.11) (11.3.0)\n",
            "Building wheels for collected packages: scikit-video\n",
            "  Building wheel for scikit-video (setup.py) ... \u001b[?25l\u001b[?25hdone\n",
            "  Created wheel for scikit-video: filename=scikit_video-1.1.11-py3-none-any.whl size=2247110 sha256=59428a942d2db2c9e44576c755292af96384fecb66dcd82461bd923350e8b41d\n",
            "  Stored in directory: /tmp/pip-ephem-wheel-cache-ghlqv956/wheels/85/b9/25/cbfd7f5b1956810f105940e9aba020b6d642fdb373004f7d4a\n",
            "Successfully built scikit-video\n",
            "Installing collected packages: scikit-video\n",
            "Successfully installed scikit-video-1.1.11\n"
          ]
        }
      ],
      "source": [
        "%cd /content/arXiv2020-RIFE/\n",
        "!gdown --id 1i3xlKb7ax7Y70khcTcuePi6E7crO_dFc\n",
        "!pip install git+https://github.com/rk-exxec/scikit-video.git@numpy_deprecation"
      ]
    },
    {
      "cell_type": "markdown",
      "metadata": {
        "id": "rirngW5uRMdg"
      },
      "source": [
        "Please upload your video to content/arXiv2020-RIFE/video.mp4, or use our demo video."
      ]
    },
    {
      "cell_type": "code",
      "execution_count": null,
      "metadata": {
        "id": "dnLn4aHHPzN3"
      },
      "outputs": [],
      "source": [
        "!nvidia-smi\n",
        "!python3 inference_video.py --exp=2 --video=demo.mp4 --montage"
      ]
    },
    {
      "cell_type": "markdown",
      "metadata": {
        "id": "77KK6lxHgJhf"
      },
      "source": [
        "Our demo.mp4 is 25FPS. You can adjust the parameters for your own perference.\n",
        "For example:\n",
        "--fps=60 --exp=1 --video=mydemo.avi --png"
      ]
    },
    {
      "cell_type": "code",
      "execution_count": 4,
      "metadata": {
        "cellView": "code",
        "id": "0zIBbVE3UfUD",
        "outputId": "80f0b9ce-4b25-4da4-ca5a-b02a956a508c",
        "colab": {
          "base_uri": "https://localhost:8080/"
        }
      },
      "outputs": [
        {
          "output_type": "stream",
          "name": "stderr",
          "text": [
            "/usr/local/lib/python3.12/dist-packages/moviepy/config_defaults.py:47: SyntaxWarning: invalid escape sequence '\\P'\n",
            "  IMAGEMAGICK_BINARY = r\"C:\\Program Files\\ImageMagick-6.8.8-Q16\\magick.exe\"\n",
            "/usr/local/lib/python3.12/dist-packages/moviepy/video/io/ffmpeg_reader.py:294: SyntaxWarning: invalid escape sequence '\\d'\n",
            "  lines_video = [l for l in lines if ' Video: ' in l and re.search('\\d+x\\d+', l)]\n",
            "/usr/local/lib/python3.12/dist-packages/moviepy/video/io/ffmpeg_reader.py:367: SyntaxWarning: invalid escape sequence '\\d'\n",
            "  rotation_lines = [l for l in lines if 'rotate          :' in l and re.search('\\d+$', l)]\n",
            "/usr/local/lib/python3.12/dist-packages/moviepy/video/io/ffmpeg_reader.py:370: SyntaxWarning: invalid escape sequence '\\d'\n",
            "  match = re.search('\\d+$', rotation_line)\n",
            "WARNING:py.warnings:/usr/local/lib/python3.12/dist-packages/moviepy/video/io/sliders.py:61: SyntaxWarning: \"is\" with 'str' literal. Did you mean \"==\"?\n",
            "  if event.key is 'enter':\n",
            "\n"
          ]
        }
      ],
      "source": [
        "from IPython.display import display, Image\n",
        "import moviepy.editor as mpy"
      ]
    },
    {
      "cell_type": "code",
      "execution_count": null,
      "metadata": {
        "id": "tWkJCNgP3zXA"
      },
      "outputs": [],
      "source": [
        "import os\n",
        "import time\n",
        "import glob\n",
        "from IPython.display import Video\n",
        "\n",
        "\n",
        "!rm -rf output\n",
        "os.makedirs(\"output\", exist_ok=True)\n",
        "\n",
        "\n",
        "start_time = time.time()\n",
        "\n",
        "!python3 inference_img.py --img scw_input_img/first.png scw_input_img/last.png\n",
        "\n",
        "end_time = time.time()\n",
        "inference_duration = end_time - start_time\n",
        "\n",
        "generated_frames = sorted(glob.glob(\"output/img*.png\"))\n",
        "num_frames = len(generated_frames)\n",
        "\n",
        "print(f\"共生成 {num_frames} 帧\")\n",
        "print(f\"推理时长：{inference_duration:.2f} 秒\")\n",
        "\n",
        "fps = 30\n",
        "!ffmpeg -y -r {fps} -f image2 -i output/img%d.png -vcodec libx264 -pix_fmt yuv420p output/slomo.mp4\n",
        "\n",
        "print(f\"生成视频：output/slomo.mp4（{fps} fps）\")\n"
      ]
    }
  ],
  "metadata": {
    "accelerator": "GPU",
    "colab": {
      "name": "Untitled0.ipynb",
      "provenance": [],
      "include_colab_link": true
    },
    "kernelspec": {
      "display_name": "Python 3",
      "name": "python3"
    }
  },
  "nbformat": 4,
  "nbformat_minor": 0
}